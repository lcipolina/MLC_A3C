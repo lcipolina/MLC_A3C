{
  "nbformat": 4,
  "nbformat_minor": 0,
  "metadata": {
    "colab": {
      "name": "a3c_pm.ipynb",
      "provenance": [],
      "collapsed_sections": [],
      "include_colab_link": true
    },
    "kernelspec": {
      "name": "python3",
      "display_name": "Python 3"
    },
    "language_info": {
      "name": "python"
    }
  },
  "cells": [
    {
      "cell_type": "markdown",
      "metadata": {
        "id": "view-in-github",
        "colab_type": "text"
      },
      "source": [
        "<a href=\"https://colab.research.google.com/github/moodlep/MLC_A3C/blob/main/a3c_pm.ipynb\" target=\"_parent\"><img src=\"https://colab.research.google.com/assets/colab-badge.svg\" alt=\"Open In Colab\"/></a>"
      ]
    },
    {
      "cell_type": "code",
      "metadata": {
        "colab": {
          "base_uri": "https://localhost:8080/"
        },
        "id": "-oq0AxEo1W9o",
        "outputId": "3e36f312-fbe6-4dee-d602-6d44f559c440"
      },
      "source": [
        "!pip3 install box2d-py\n",
        "!pip3 install gym[Box_2D]"
      ],
      "execution_count": 1,
      "outputs": [
        {
          "output_type": "stream",
          "name": "stdout",
          "text": [
            "Collecting box2d-py\n",
            "  Downloading box2d_py-2.3.8-cp37-cp37m-manylinux1_x86_64.whl (448 kB)\n",
            "\u001b[?25l\r\u001b[K     |▊                               | 10 kB 25.8 MB/s eta 0:00:01\r\u001b[K     |█▌                              | 20 kB 26.8 MB/s eta 0:00:01\r\u001b[K     |██▏                             | 30 kB 30.0 MB/s eta 0:00:01\r\u001b[K     |███                             | 40 kB 30.4 MB/s eta 0:00:01\r\u001b[K     |███▋                            | 51 kB 33.1 MB/s eta 0:00:01\r\u001b[K     |████▍                           | 61 kB 32.8 MB/s eta 0:00:01\r\u001b[K     |█████▏                          | 71 kB 30.8 MB/s eta 0:00:01\r\u001b[K     |█████▉                          | 81 kB 31.7 MB/s eta 0:00:01\r\u001b[K     |██████▋                         | 92 kB 32.2 MB/s eta 0:00:01\r\u001b[K     |███████▎                        | 102 kB 34.3 MB/s eta 0:00:01\r\u001b[K     |████████                        | 112 kB 34.3 MB/s eta 0:00:01\r\u001b[K     |████████▊                       | 122 kB 34.3 MB/s eta 0:00:01\r\u001b[K     |█████████▌                      | 133 kB 34.3 MB/s eta 0:00:01\r\u001b[K     |██████████▎                     | 143 kB 34.3 MB/s eta 0:00:01\r\u001b[K     |███████████                     | 153 kB 34.3 MB/s eta 0:00:01\r\u001b[K     |███████████▊                    | 163 kB 34.3 MB/s eta 0:00:01\r\u001b[K     |████████████▍                   | 174 kB 34.3 MB/s eta 0:00:01\r\u001b[K     |█████████████▏                  | 184 kB 34.3 MB/s eta 0:00:01\r\u001b[K     |█████████████▉                  | 194 kB 34.3 MB/s eta 0:00:01\r\u001b[K     |██████████████▋                 | 204 kB 34.3 MB/s eta 0:00:01\r\u001b[K     |███████████████▍                | 215 kB 34.3 MB/s eta 0:00:01\r\u001b[K     |████████████████                | 225 kB 34.3 MB/s eta 0:00:01\r\u001b[K     |████████████████▉               | 235 kB 34.3 MB/s eta 0:00:01\r\u001b[K     |█████████████████▌              | 245 kB 34.3 MB/s eta 0:00:01\r\u001b[K     |██████████████████▎             | 256 kB 34.3 MB/s eta 0:00:01\r\u001b[K     |███████████████████             | 266 kB 34.3 MB/s eta 0:00:01\r\u001b[K     |███████████████████▊            | 276 kB 34.3 MB/s eta 0:00:01\r\u001b[K     |████████████████████▌           | 286 kB 34.3 MB/s eta 0:00:01\r\u001b[K     |█████████████████████▏          | 296 kB 34.3 MB/s eta 0:00:01\r\u001b[K     |██████████████████████          | 307 kB 34.3 MB/s eta 0:00:01\r\u001b[K     |██████████████████████▋         | 317 kB 34.3 MB/s eta 0:00:01\r\u001b[K     |███████████████████████▍        | 327 kB 34.3 MB/s eta 0:00:01\r\u001b[K     |████████████████████████        | 337 kB 34.3 MB/s eta 0:00:01\r\u001b[K     |████████████████████████▉       | 348 kB 34.3 MB/s eta 0:00:01\r\u001b[K     |█████████████████████████▋      | 358 kB 34.3 MB/s eta 0:00:01\r\u001b[K     |██████████████████████████▎     | 368 kB 34.3 MB/s eta 0:00:01\r\u001b[K     |███████████████████████████     | 378 kB 34.3 MB/s eta 0:00:01\r\u001b[K     |███████████████████████████▊    | 389 kB 34.3 MB/s eta 0:00:01\r\u001b[K     |████████████████████████████▌   | 399 kB 34.3 MB/s eta 0:00:01\r\u001b[K     |█████████████████████████████▏  | 409 kB 34.3 MB/s eta 0:00:01\r\u001b[K     |██████████████████████████████  | 419 kB 34.3 MB/s eta 0:00:01\r\u001b[K     |██████████████████████████████▊ | 430 kB 34.3 MB/s eta 0:00:01\r\u001b[K     |███████████████████████████████▍| 440 kB 34.3 MB/s eta 0:00:01\r\u001b[K     |████████████████████████████████| 448 kB 34.3 MB/s \n",
            "\u001b[?25hInstalling collected packages: box2d-py\n",
            "Successfully installed box2d-py-2.3.8\n",
            "Requirement already satisfied: gym[Box_2D] in /usr/local/lib/python3.7/dist-packages (0.17.3)\n",
            "\u001b[33mWARNING: gym 0.17.3 does not provide the extra 'box_2d'\u001b[0m\n",
            "Requirement already satisfied: scipy in /usr/local/lib/python3.7/dist-packages (from gym[Box_2D]) (1.4.1)\n",
            "Requirement already satisfied: cloudpickle<1.7.0,>=1.2.0 in /usr/local/lib/python3.7/dist-packages (from gym[Box_2D]) (1.3.0)\n",
            "Requirement already satisfied: pyglet<=1.5.0,>=1.4.0 in /usr/local/lib/python3.7/dist-packages (from gym[Box_2D]) (1.5.0)\n",
            "Requirement already satisfied: numpy>=1.10.4 in /usr/local/lib/python3.7/dist-packages (from gym[Box_2D]) (1.19.5)\n",
            "Requirement already satisfied: future in /usr/local/lib/python3.7/dist-packages (from pyglet<=1.5.0,>=1.4.0->gym[Box_2D]) (0.16.0)\n"
          ]
        }
      ]
    },
    {
      "cell_type": "code",
      "metadata": {
        "id": "deq0in1i1iM7"
      },
      "source": [
        "import os\n",
        "import Box2D\n",
        "import pyglet\n",
        "import imageio\n",
        "os.system(\"Xvfb :1 -screen 0 1024x768x24 &\")\n",
        "os.environ['DISPLAY'] = ':1'\n"
      ],
      "execution_count": 2,
      "outputs": []
    },
    {
      "cell_type": "code",
      "metadata": {
        "id": "954_wRxQtHoe"
      },
      "source": [
        "import gym\n",
        "import torch\n",
        "import numpy as np\n",
        "import torch.nn as nn\n",
        "import torch.nn.functional as F\n"
      ],
      "execution_count": 16,
      "outputs": []
    },
    {
      "cell_type": "code",
      "metadata": {
        "colab": {
          "base_uri": "https://localhost:8080/"
        },
        "id": "hjrzTEmz1Q3L",
        "outputId": "0d20b3c1-b622-44a8-c756-8a5a4e22c3ef"
      },
      "source": [
        "# The env - quick test: \n",
        "\n",
        "env = gym.make(\"LunarLander-v2\")\n",
        "\n",
        "s = env.reset()\n",
        "\n",
        "for _ in range(5): \n",
        "  a = env.action_space.sample()\n",
        "  next_state, reward, done, info = env.step(a)\n",
        "  print(next_state, reward, a)\n"
      ],
      "execution_count": 4,
      "outputs": [
        {
          "output_type": "stream",
          "name": "stdout",
          "text": [
            "[-0.00403366  1.4108136  -0.20916715 -0.01503031  0.00628436  0.07962076\n",
            "  0.          0.        ] -1.2594954679889543 1\n",
            "[-0.00601196  1.4104248  -0.20221329 -0.01730717  0.01062587  0.08683817\n",
            "  0.          0.        ] -0.020585698559887067 2\n",
            "[-0.00807648  1.4094313  -0.21303622 -0.04421211  0.01713547  0.13020416\n",
            "  0.          0.        ] -2.0449457888962557 1\n",
            "[-0.01022396  1.4078481  -0.22343937 -0.07048976  0.02572237  0.17175414\n",
            "  0.          0.        ] -2.4036715007549376 1\n",
            "[-0.01228151  1.4056733  -0.2121342  -0.09678624  0.03203259  0.12621632\n",
            "  0.          0.        ] -0.3327739370253642 3\n"
          ]
        }
      ]
    },
    {
      "cell_type": "code",
      "metadata": {
        "colab": {
          "base_uri": "https://localhost:8080/"
        },
        "id": "c7EURhaU18Rl",
        "outputId": "83ea317b-0f7d-43a7-b032-7862ba527ba0"
      },
      "source": [
        "env.action_space,env.action_space.n, env.observation_space, env.observation_space.shape[0], env.observation_space.sample()"
      ],
      "execution_count": 14,
      "outputs": [
        {
          "output_type": "execute_result",
          "data": {
            "text/plain": [
              "(Discrete(4),\n",
              " 4,\n",
              " Box(-inf, inf, (8,), float32),\n",
              " 8,\n",
              " array([-1.0567338 , -0.9767524 , -0.11754707,  0.04958226, -1.0946387 ,\n",
              "        -0.60420877, -0.39772463,  0.6373612 ], dtype=float32))"
            ]
          },
          "metadata": {},
          "execution_count": 14
        }
      ]
    },
    {
      "cell_type": "markdown",
      "metadata": {
        "id": "qkudVJbo_q6f"
      },
      "source": [
        "### Actor - policy NN and value NN \n",
        "### data collection -> batch\n",
        "### train: calculate loss "
      ]
    },
    {
      "cell_type": "code",
      "metadata": {
        "id": "OTIuEegY2JYl"
      },
      "source": [
        "\n",
        "class Policy(nn.Module):\n",
        "\tdef __init__(self, state_dim,action_dim,hidden=100):\n",
        "\t\tsuper(Policy, self).__init__()\n",
        "\n",
        "\t\tself.l1 = nn.Linear(state_dim, hidden)\n",
        "\t\tself.l2 = nn.Linear(hidden, hidden)\n",
        "\t\tself.l3 = nn.Linear(hidden,action_dim)\n",
        "\n",
        "\tdef forward(self, state):\n",
        "\t\tq = F.leaky_relu(self.l1(state))\n",
        "\t\tq = F.leaky_relu(self.l2(q))\n",
        "\t\treturn F.softmax(self.l3(q), dim = 1)\n",
        "\t\n",
        "\tdef get_action(self, state):\n",
        "\t\t# check no grad; confirmed (https://github.com/ikostrikov/pytorch-a2c-ppo-acktr-gail/blob/master/main.py#L114)\n",
        "\t\twith torch.no_grad():  \n",
        "\t\t\tpol = self.forward(state)\n",
        "\t\t\tdist = torch.distributions.Categorical(pol)\n",
        "\t\treturn dist.sample() #returns a batch of values \n",
        "\t\n",
        "\tdef log_prob(self, state, actions):\n",
        "\t\t# Part of the loss term\n",
        "\t\tpol = self.forward(state)\n",
        "\t\tprint(\"policy: \", pol)\n",
        "\t\tprint(\"categoricals: \", torch.distributions.Categorical(pol))\n",
        "\t\tprint(\"log_probs: action 1 \", torch.distributions.Categorical(pol).log_prob(actions[0]))\n",
        "\t\tprint(\"log_probs: action 2 \", torch.distributions.Categorical(pol).log_prob(actions[1]))\n",
        "\t\tlog_prob = torch.distributions.Categorical(pol).log_prob(actions)\n",
        "\t\treturn log_prob\n",
        "\t\n",
        "\tdef entropy(self, state):\n",
        "\t\tpol = self.forward(state)\n",
        "\t\treturn torch.distributions.Categorical(pol).entropy()\n",
        "    \n"
      ],
      "execution_count": 46,
      "outputs": []
    },
    {
      "cell_type": "code",
      "metadata": {
        "colab": {
          "base_uri": "https://localhost:8080/"
        },
        "id": "en5eOtrYe0dC",
        "outputId": "ad65c625-6eeb-40e0-ef80-14630326f2d8"
      },
      "source": [
        "# create batch of states \n",
        "batch_states = torch.rand(5, env.observation_space.shape[0])\n",
        "\n",
        "policy = Policy(env.observation_space.shape[0], env.action_space.n)\n",
        "policy(batch_states).data"
      ],
      "execution_count": 47,
      "outputs": [
        {
          "output_type": "execute_result",
          "data": {
            "text/plain": [
              "tensor([[0.2653, 0.2191, 0.2110, 0.3045],\n",
              "        [0.2722, 0.2180, 0.2224, 0.2874],\n",
              "        [0.2656, 0.2196, 0.2169, 0.2979],\n",
              "        [0.2675, 0.2265, 0.2190, 0.2870],\n",
              "        [0.2662, 0.2250, 0.2050, 0.3038]])"
            ]
          },
          "metadata": {},
          "execution_count": 47
        }
      ]
    },
    {
      "cell_type": "code",
      "metadata": {
        "colab": {
          "base_uri": "https://localhost:8080/"
        },
        "id": "XaOYNnx3hBnM",
        "outputId": "750fc52b-3e74-4801-e6f0-0e4a12896516"
      },
      "source": [
        "batch_actions = policy.get_action(batch_states)\n",
        "batch_actions"
      ],
      "execution_count": 48,
      "outputs": [
        {
          "output_type": "execute_result",
          "data": {
            "text/plain": [
              "tensor([0, 0, 3, 1, 0])"
            ]
          },
          "metadata": {},
          "execution_count": 48
        }
      ]
    },
    {
      "cell_type": "code",
      "metadata": {
        "colab": {
          "base_uri": "https://localhost:8080/"
        },
        "id": "wkd5Oabji-el",
        "outputId": "cc4373ac-a2df-482f-83e9-3c7537d4562e"
      },
      "source": [
        "policy.log_prob(batch_states, batch_actions)"
      ],
      "execution_count": 49,
      "outputs": [
        {
          "output_type": "stream",
          "name": "stdout",
          "text": [
            "policy:  tensor([[0.2653, 0.2191, 0.2110, 0.3045],\n",
            "        [0.2722, 0.2180, 0.2224, 0.2874],\n",
            "        [0.2656, 0.2196, 0.2169, 0.2979],\n",
            "        [0.2675, 0.2265, 0.2190, 0.2870],\n",
            "        [0.2662, 0.2250, 0.2050, 0.3038]], grad_fn=<SoftmaxBackward>)\n",
            "categoricals:  Categorical(probs: torch.Size([5, 4]))\n",
            "log_probs: action 1  tensor([-1.3268, -1.3011, -1.3258, -1.3187, -1.3235],\n",
            "       grad_fn=<SqueezeBackward1>)\n",
            "log_probs: action 2  tensor([-1.3268, -1.3011, -1.3258, -1.3187, -1.3235],\n",
            "       grad_fn=<SqueezeBackward1>)\n"
          ]
        },
        {
          "output_type": "execute_result",
          "data": {
            "text/plain": [
              "tensor([-1.3268, -1.3011, -1.2111, -1.4851, -1.3235],\n",
              "       grad_fn=<SqueezeBackward1>)"
            ]
          },
          "metadata": {},
          "execution_count": 49
        }
      ]
    },
    {
      "cell_type": "code",
      "metadata": {
        "id": "1AYm6eCD53O2"
      },
      "source": [
        "class Critic(nn.Module):\n",
        "  \tdef __init__(self, state_dim,hidden=100):\n",
        "\t\t  super(Critic, self).__init__()\n",
        "    \n",
        "      self.l1 = nn.Linear(state_dim, hidden)\n",
        "      self.l2 = nn.Linear(hidden, hidden)\n",
        "      self.l3 = nn.Linear(hidden,1)\n",
        "\n",
        "    def forward(self, state):\n",
        "      q = F.leaky_relu(self.l1(state))\n",
        "      q = F.leaky_relu(self.l2(q))\n",
        "      return self.l3(q)\n",
        "\n"
      ],
      "execution_count": null,
      "outputs": []
    },
    {
      "cell_type": "code",
      "metadata": {
        "id": "OBBJ9hbfA7Hs"
      },
      "source": [
        "class ActorCritic():\n",
        "  \tdef __init__(self, env, pol):\n",
        "    \n",
        "    \n",
        "    \n"
      ],
      "execution_count": null,
      "outputs": []
    },
    {
      "cell_type": "code",
      "metadata": {
        "id": "BWowuEK249kp"
      },
      "source": [
        "# worker process\n",
        "# Input: A2C network, env, no of steps, \n",
        "\n",
        "# 1. "
      ],
      "execution_count": null,
      "outputs": []
    }
  ]
}